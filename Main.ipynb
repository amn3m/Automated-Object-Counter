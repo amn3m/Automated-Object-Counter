{
 "cells": [
  {
   "cell_type": "code",
   "execution_count": 65,
   "metadata": {},
   "outputs": [],
   "source": [
    "import cv2\n",
    "import numpy as np\n",
    "import tkinter as tk\n",
    "from tkinter import filedialog\n",
    "from tkinter import messagebox\n",
    "from PIL import Image, ImageTk\n",
    "import threading\n"
   ]
  },
  {
   "cell_type": "code",
   "execution_count": 66,
   "metadata": {},
   "outputs": [],
   "source": [
    "class ObjectCounterApp:\n",
    "    def __init__(self, root):\n",
    "        self.root = root\n",
    "        self.root.title(\"Object Counter\")\n",
    "        \n",
    "        self.canvas = tk.Canvas(root, width=800, height=600)\n",
    "        self.canvas.pack()\n",
    "        \n",
    "        self.button_frame = tk.Frame(root)\n",
    "        self.button_frame.pack()\n",
    "        \n",
    "        self.upload_button = tk.Button(self.button_frame, text=\"Upload Image\", command=self.upload_image)\n",
    "        self.upload_button.pack(side=tk.LEFT)\n",
    "        \n",
    "        self.video_button = tk.Button(self.button_frame, text=\"Start Video Stream\", command=self.start_video_stream)\n",
    "        self.video_button.pack(side=tk.LEFT)\n",
    "        \n",
    "        self.count_label = tk.Label(root, text=\"Object Count: 0\")\n",
    "        self.count_label.pack()\n",
    "\n",
    "        self.cap = None\n",
    "        self.object_count = 0\n"
   ]
  },
  {
   "cell_type": "code",
   "execution_count": 67,
   "metadata": {},
   "outputs": [],
   "source": [
    "def upload_image(self):\n",
    "    file_path = filedialog.askopenfilename()\n",
    "    if not file_path:\n",
    "        return\n",
    "    image = cv2.imread(file_path)\n",
    "    self.process_image(image)\n",
    "\n",
    "ObjectCounterApp.upload_image = upload_image\n"
   ]
  },
  {
   "cell_type": "code",
   "execution_count": 68,
   "metadata": {},
   "outputs": [],
   "source": [
    "def start_video_stream(self):\n",
    "    if self.cap is not None:\n",
    "        self.cap.release()\n",
    "    self.cap = cv2.VideoCapture(0)\n",
    "    self.video_loop()\n",
    "\n",
    "ObjectCounterApp.start_video_stream = start_video_stream\n"
   ]
  },
  {
   "cell_type": "code",
   "execution_count": 69,
   "metadata": {},
   "outputs": [],
   "source": [
    "def video_loop(self):\n",
    "    ret, frame = self.cap.read()\n",
    "    if ret:\n",
    "        self.process_image(frame)\n",
    "        self.root.after(10, self.video_loop)\n",
    "    else:\n",
    "        self.cap.release()\n",
    "\n",
    "ObjectCounterApp.video_loop = video_loop\n"
   ]
  },
  {
   "cell_type": "code",
   "execution_count": 70,
   "metadata": {},
   "outputs": [],
   "source": [
    "def process_image(self, image):\n",
    "    gray = cv2.cvtColor(image, cv2.COLOR_BGR2GRAY)\n",
    "    blurred = cv2.GaussianBlur(gray, (9, 9), 2)\n",
    "    edges = cv2.Canny(blurred, 50, 150)\n",
    "    kernel = np.ones((3, 3), np.uint8)\n",
    "    morphed = cv2.morphologyEx(edges, cv2.MORPH_CLOSE, kernel, iterations=1)\n",
    "    contours, _ = cv2.findContours(morphed, cv2.RETR_EXTERNAL, cv2.CHAIN_APPROX_SIMPLE)\n",
    "    cv2.drawContours(image, contours, -1, (0, 255, 0), 2)\n",
    "    \n",
    "    self.object_count = 0\n",
    "    for contour in contours:\n",
    "        if cv2.contourArea(contour) > 100:  # Example threshold area\n",
    "            self.object_count += 1\n",
    "            cv2.drawContours(image, [contour], -1, (0, 255, 0), 2)\n",
    "    \n",
    "    self.update_display(image)\n",
    "    self.count_label.config(text=f\"Object Count: {self.object_count}\")\n",
    "\n",
    "ObjectCounterApp.process_image = process_image\n"
   ]
  },
  {
   "cell_type": "code",
   "execution_count": 71,
   "metadata": {},
   "outputs": [],
   "source": [
    "def update_display(self, image):\n",
    "    image = cv2.cvtColor(image, cv2.COLOR_BGR2RGB)\n",
    "    image = Image.fromarray(image)\n",
    "    image = ImageTk.PhotoImage(image)\n",
    "    self.canvas.create_image(0, 0, anchor=tk.NW, image=image)\n",
    "    self.canvas.image = image\n",
    "\n",
    "ObjectCounterApp.update_display = update_display\n"
   ]
  },
  {
   "cell_type": "code",
   "execution_count": 72,
   "metadata": {},
   "outputs": [
    {
     "data": {
      "application/vnd.jupyter.widget-view+json": {
       "model_id": "91f8fd22ff904eac9119365df8fdeb93",
       "version_major": 2,
       "version_minor": 0
      },
      "text/plain": [
       "Button(description='Start Object Counter App', style=ButtonStyle())"
      ]
     },
     "metadata": {},
     "output_type": "display_data"
    }
   ],
   "source": [
    "import IPython.display as display\n",
    "import ipywidgets as widgets\n",
    "\n",
    "def run_app():\n",
    "    root = tk.Tk()\n",
    "    app = ObjectCounterApp(root)\n",
    "    root.mainloop()\n",
    "\n",
    "# Create a button to start the application\n",
    "start_button = widgets.Button(description=\"Start Object Counter App\")\n",
    "\n",
    "def on_button_clicked(b):\n",
    "    run_app()\n",
    "\n",
    "start_button.on_click(on_button_clicked)\n",
    "display.display(start_button)\n"
   ]
  }
 ],
 "metadata": {
  "kernelspec": {
   "display_name": "base",
   "language": "python",
   "name": "python3"
  },
  "language_info": {
   "codemirror_mode": {
    "name": "ipython",
    "version": 3
   },
   "file_extension": ".py",
   "mimetype": "text/x-python",
   "name": "python",
   "nbconvert_exporter": "python",
   "pygments_lexer": "ipython3",
   "version": "3.11.7"
  }
 },
 "nbformat": 4,
 "nbformat_minor": 2
}
